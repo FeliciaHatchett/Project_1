{
 "cells": [
  {
   "cell_type": "code",
   "execution_count": 1,
   "metadata": {},
   "outputs": [
    {
     "data": {
      "text/html": [
       "<iframe id=\"igraph\" scrolling=\"no\" style=\"border:none;\" seamless=\"seamless\" src=\"https://plot.ly/~beccaagain/74.embed\" height=\"525px\" width=\"100%\"></iframe>"
      ],
      "text/plain": [
       "<plotly.tools.PlotlyDisplay object>"
      ]
     },
     "execution_count": 1,
     "metadata": {},
     "output_type": "execute_result"
    }
   ],
   "source": [
    "import plotly.plotly as py\n",
    "import pandas as pd\n",
    "import numpy as np\n",
    "\n",
    "school_data = pd.read_csv('clean_data.csv')\n",
    "\n",
    "#Avg Paid Tuition per Full time student by state\n",
    "avg_tuition_state=school_data.groupby(['STABBR'])['Paid Tuition per Full time student'].mean()\n",
    "df = pd.DataFrame({'state':avg_tuition_state.index, 'tuition':avg_tuition_state.values})\n",
    "\n",
    "scl = [[0.0, 'rgb(26,152,80)'],[0.2, 'rgb(145,207,96)'],[0.4, 'rgb(217,239,139)'],\\\n",
    "           [0.6, 'rgb(254,224,139)'],[0.8, 'rgb(252,141,89)'],[1.0, 'rgb(215,48,39)']]\n",
    "\n",
    "data = [dict(\n",
    "        type='choropleth', \n",
    "        colorscale = scl,\n",
    "        autocolorscale = False,\n",
    "        locations = df['state'],\n",
    "        z = df['tuition'].astype(float),\n",
    "        locationmode = 'USA-states',\n",
    "        marker = dict(\n",
    "            line = dict(\n",
    "                color = 'rgb(255,255,255)',\n",
    "                width = 2\n",
    "            )),\n",
    "         colorbar = dict(\n",
    "             title = \"Tuition\")\n",
    "         )]\n",
    "\n",
    "layout = dict(\n",
    "          title = 'Average Tuition by State',\n",
    "          geo = dict(\n",
    "              scope='usa',\n",
    "              projection=dict(type='albers usa'),\n",
    "              showlakes = True,\n",
    "              lakecolor = 'rgb(255,255,255)'),\n",
    "             )\n",
    "fig = dict(data=data, layout=layout)\n",
    "py.iplot(fig)"
   ]
  },
  {
   "cell_type": "code",
   "execution_count": 2,
   "metadata": {},
   "outputs": [
    {
     "data": {
      "text/html": [
       "<iframe id=\"igraph\" scrolling=\"no\" style=\"border:none;\" seamless=\"seamless\" src=\"https://plot.ly/~beccaagain/76.embed\" height=\"525px\" width=\"100%\"></iframe>"
      ],
      "text/plain": [
       "<plotly.tools.PlotlyDisplay object>"
      ]
     },
     "execution_count": 2,
     "metadata": {},
     "output_type": "execute_result"
    }
   ],
   "source": [
    "#Avg DTI (Debt to Income) % by state\n",
    "grad_avg_debt = school_data.groupby(['STABBR'])['Graduate Median Debt'].mean()\n",
    "avg_early_pay = school_data.groupby(['STABBR'])['Early Career'].mean()\n",
    "DTI = grad_avg_debt/avg_early_pay*100\n",
    "df2 = pd.DataFrame({'state':grad_avg_debt.index, 'Avg Median Debt by State':grad_avg_debt.values, 'Avg Early Pay by State':avg_early_pay.values, 'DTI':DTI.values})\n",
    "\n",
    "data2 = [dict(\n",
    "        type='choropleth', \n",
    "        colorscale = scl,\n",
    "        autocolorscale = False,\n",
    "        locations = df2['state'],\n",
    "        z = df2['DTI'].astype(float),\n",
    "        locationmode = 'USA-states',\n",
    "        marker = dict(\n",
    "            line = dict(\n",
    "                color = 'rgb(255,255,255)',\n",
    "                width = 2\n",
    "            )),\n",
    "         colorbar = dict(\n",
    "             title = \"DTI %\")\n",
    "         )]\n",
    "\n",
    "layout2 = dict(\n",
    "          title = 'DTI % Average by State',\n",
    "          geo = dict(\n",
    "              scope='usa',\n",
    "              projection=dict(type='albers usa'),\n",
    "              showlakes = True,\n",
    "              lakecolor = 'rgb(255,255,255)'),\n",
    "             )\n",
    "fig2 = dict(data=data2, layout=layout2)\n",
    "py.iplot(fig2)"
   ]
  },
  {
   "cell_type": "code",
   "execution_count": 3,
   "metadata": {},
   "outputs": [
    {
     "data": {
      "text/html": [
       "<iframe id=\"igraph\" scrolling=\"no\" style=\"border:none;\" seamless=\"seamless\" src=\"https://plot.ly/~beccaagain/78.embed\" height=\"525px\" width=\"100%\"></iframe>"
      ],
      "text/plain": [
       "<plotly.tools.PlotlyDisplay object>"
      ]
     },
     "execution_count": 3,
     "metadata": {},
     "output_type": "execute_result"
    }
   ],
   "source": [
    "#Avg early career pay by state\n",
    "early_career_state=school_data.groupby(['STABBR'])['Early Career'].mean()\n",
    "df3 = pd.DataFrame({'state':early_career_state.index, 'Avg Early Career Pay':early_career_state.values})\n",
    "data3 = [dict(\n",
    "        type='choropleth', \n",
    "        colorscale = scl,\n",
    "        autocolorscale = False,\n",
    "        locations = df2['state'],\n",
    "        z = df3['Avg Early Career Pay'].astype(float),\n",
    "        locationmode = 'USA-states',\n",
    "        marker = dict(\n",
    "            line = dict(\n",
    "                color = 'rgb(255,255,255)',\n",
    "                width = 2\n",
    "            )),\n",
    "         colorbar = dict(\n",
    "             title = \"Early Career Pay ($)\")\n",
    "         )]\n",
    "\n",
    "layout3 = dict(\n",
    "          title = 'Avereage Early Career Pay by State',\n",
    "          geo = dict(\n",
    "              scope='usa',\n",
    "              projection=dict(type='albers usa'),\n",
    "              showlakes = True,\n",
    "              lakecolor = 'rgb(255,255,255)'),\n",
    "             )\n",
    "fig3 = dict(data=data3, layout=layout3)\n",
    "py.iplot(fig3)"
   ]
  },
  {
   "cell_type": "code",
   "execution_count": null,
   "metadata": {},
   "outputs": [],
   "source": [
    "\n",
    "\n"
   ]
  },
  {
   "cell_type": "code",
   "execution_count": 4,
   "metadata": {},
   "outputs": [
    {
     "data": {
      "text/html": [
       "<iframe id=\"igraph\" scrolling=\"no\" style=\"border:none;\" seamless=\"seamless\" src=\"https://plot.ly/~beccaagain/80.embed\" height=\"525px\" width=\"100%\"></iframe>"
      ],
      "text/plain": [
       "<plotly.tools.PlotlyDisplay object>"
      ]
     },
     "execution_count": 4,
     "metadata": {},
     "output_type": "execute_result"
    }
   ],
   "source": [
    "#locations of where higher earning degrees are\n",
    "healthcare_state=school_data.groupby(['STABBR'])['Health Professions'].sum()\n",
    "engineering_state=school_data.groupby(['STABBR'])['Engineering'].sum()\n",
    "engineeringtech_state=school_data.groupby(['STABBR'])['Engineering Technologies and Engineering-Related Fields'].sum()\n",
    "compsci_state=school_data.groupby(['STABBR'])['Computer and Information Sciences and Support Services'].sum()\n",
    "total_high_degrees = healthcare_state + engineering_state + engineeringtech_state + compsci_state\n",
    "df5 = pd.DataFrame({'state':healthcare_state.index, '% avg healthcare degrees':healthcare_state.values, '% avg engineering degrees':engineering_state.values, '% avg engineering tech degrees':engineeringtech_state.values, '%avg comp sci degrees':compsci_state.values, 'total':total_high_degrees.values})\n",
    "\n",
    "data5 = [dict(\n",
    "        type='choropleth', \n",
    "        colorscale = scl,\n",
    "        autocolorscale = False,\n",
    "        locations = df5['state'],\n",
    "        z = df5['total'].astype(float),\n",
    "        locationmode = 'USA-states',\n",
    "        marker = dict(\n",
    "            line = dict(\n",
    "                color = 'rgb(255,255,255)',\n",
    "                width = 2\n",
    "            )),\n",
    "         colorbar = dict(\n",
    "             title = \"Avg % by State of <br>Degrees Received\")\n",
    "         )]\n",
    "\n",
    "layout5 = dict(\n",
    "          title = 'Where the Highest Earning Degrees are being Received <br>(Healthcare, Engineering, Computer Science)',\n",
    "          geo = dict(\n",
    "              scope='usa',\n",
    "              projection=dict(type='albers usa'),\n",
    "              showlakes = True,\n",
    "              lakecolor = 'rgb(255,255,255)'),\n",
    "             )\n",
    "fig5 = dict(data=data5, layout=layout5)\n",
    "py.iplot(fig5)\n"
   ]
  },
  {
   "cell_type": "code",
   "execution_count": null,
   "metadata": {},
   "outputs": [],
   "source": []
  }
 ],
 "metadata": {
  "kernelspec": {
   "display_name": "Python 3",
   "language": "python",
   "name": "python3"
  },
  "language_info": {
   "codemirror_mode": {
    "name": "ipython",
    "version": 3
   },
   "file_extension": ".py",
   "mimetype": "text/x-python",
   "name": "python",
   "nbconvert_exporter": "python",
   "pygments_lexer": "ipython3",
   "version": "3.6.5"
  }
 },
 "nbformat": 4,
 "nbformat_minor": 2
}
